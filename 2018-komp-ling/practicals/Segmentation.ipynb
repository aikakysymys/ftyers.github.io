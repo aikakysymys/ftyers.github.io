{
 "cells": [
  {
   "cell_type": "code",
   "execution_count": 9,
   "metadata": {
    "collapsed": true
   },
   "outputs": [],
   "source": [
    "from nltk.tokenize import sent_tokenize\n",
    "from random import shuffle"
   ]
  },
  {
   "cell_type": "code",
   "execution_count": null,
   "metadata": {
    "collapsed": true
   },
   "outputs": [],
   "source": []
  },
  {
   "cell_type": "code",
   "execution_count": null,
   "metadata": {
    "collapsed": true
   },
   "outputs": [],
   "source": []
  },
  {
   "cell_type": "code",
   "execution_count": 2,
   "metadata": {},
   "outputs": [
    {
     "name": "stdout",
     "output_type": "stream",
     "text": [
      "['', 'Ax a di Apasl:', 'Di \"h\"Ax a di Apasl adawaiz kaal \"h\"Ax ah wahn a di buk dem a di Baibl ahn ah di falarop to .', '', '1907 Kinston oertkwiek:', 'Di 1907 Kinston oertkwiek we shiekop di kiapital a di ailan a Jumieka wid magnityuud 6.5 pah di muoment magnityuud skiel pah Monde 14 Janiweri, about 3:30 pm luokal taim (20:36 UTC), eh-kansida bai nof raita a di taim fi bi wan a di wol dedlies oertkwiek rikaad ina ischri. Ebri bildin ina Kinston get damij bai di oertkwiek ah sobsikuent fayadem, we laas fi chrii howa bifuo hefoert eh-mek fi put dem out. Ikolminiet ina di det a 800 tu 1,000 piipl, ah lef apraximetli 10,000 uomles ah $25,000,000 ina matiirial damij. Likl afta, wah sunaami eh-ripuot pah di naat kuos a Jumieka, wi maximom wiev ait about 2 m (6–8 ft).', '', '2010 Kinston anres:', 'Di 2010 Kinston anres, dob luokali az di Tivoli Ingkoerjan, wena aam kanflik bitwiin di Showa Pasi jrog kyaatel ah Jumieka milichri ah poliis fuos ina Kinston, di kiapital a Jumieka. Di kanflik eh-bigin pah di 23 Mie 2010 az sikioriti fuos taat fi saach fi mieja jrog laad Kristifa \"Dudus\" Kuok, afta di Yunaitid Stiet rikues ih exchradishan, ah di liida a di kriminal giang we atak sebral poliis stieshan. Di voilens, we muosli tek plies uoba 24–25 Mie, kil akliis 73 sivilian ah wuun akliis 35 muo. Fuo suoja/poliis get kil tu ah muo dah 500 ares eh-mek, az Jumiekan poliis ah suoja fait gonman ina di Tivoli Gyaadn dischrik a Kinston.', '', '2011 Jumiekan jinaral ilekshan:', 'Di 2011 Jumiekan jinaral ilekshan eh-huol pah 29 Disemba 2011 ina Jumieka. Di ilekshan eh-kantes mienli bitwiin di nieshan tuu mieja palitikal paati, di gobanin Jumieka Lieba Paati (JLP), liid bai Anju Uolnis, ah di apazishan Piipl Nashinal Paati (PNP) liid bai Puosha Simsn-Mila. Di rizolt ena lanslaid vikchri fi di PNP we win 42 a di 63 siit, a tuu-tod majariti.', '', 'Aabit:', 'Ina fizix, aabit a di gravitieshanal koerv paat a wah abjek rong wah paint ina spies, fi egzampl di aabit a planit rong wah staar, ar nachral satilait rong wah planit. Aabit a planit tipikali iliptikal, ah di senchral mas we aabit de a di fuokal paint a di ilips. Korant andastandin a di mikianix a aabital muoshan bies pah Alboert Ainstain jinaral tiiri a relitiviti, we akount fi graviti az juu tu koervacha a spies-taim, wid aabit we fala jiodiisix. Fi iiz a kialkiulieshan, relitiviti kamanli apraximiet bai di fuos-bies tiiri a yunivoersal gravitieshan bies pah Kepla laa a planiteri muoshan.', '', 'Aachitecha:', 'Aachitecha (Latn architectura, frah di Griik ἀρχιτέκτων arkhitekton \"aachitek\", frah ἀρχι- \"chiif\" ah τέκτων \"bilda\") a buot di pruoses ah di prodok a planin, dizainin, ah kanschrokin bildin ah ada fizikal chokcha.', '', 'Aafwe Chrii, Sint Anju, Jumieka:', 'Aafwe Chrii a di kiapital fi Sint Anju Parish.', '', 'Aagianik kimischri:', 'Aagianik kimischri a wah kimischri sobdisiplin we invalv di sayantifik stodi a di chokcha, prapati, ah riakshan a aagianik kompoun ah aagianik matiirial, i.e., mata ina vierios faam we kantien kaaban atom.', '', 'Aajentiina:', 'Aajentiina, ofishali niem di Aajentiin Ripoblik, a di sekan bigis konchri ina Sout Amoerka, an a wah fedarieshan a 23 pravins an wah aatanamos siti, Buenos Airiz. Aajentiina a di iet-bigis konchri ina di wol bai lan ieria ah di bigis outa aal a di konchridem we ab Panish az ofishal languij, alduo Mexiko, Kolombia ah Spien ab muo piipl.', '', 'Aakeschra:', 'Aakeschra a laaj inschrumental ohsambl yuuz ina klasikal myuuzik we kantien sekshan a chring (vailin, vyuola, chelo ah dobbl bies), braas, udwin, ah pokoshan inschrument.', '', 'Aamiinia:', 'Aamiinia (Aamiinian: \"Հայաստան\", chr. \"Hayastan\", IPA: ), ofishali di Ripoblik a Aamiinia (Aamiinian: \"Հայաստանի Հանրապետություն\", chr. \"Hayastani Hanrapetut’yun\"), a wah savrin stiet ina di Sout Kaakasos riijan a Yuurieja. Lokiet ina Westan Ieja, ibaada bai Toerki tu di wes, Jaaja tu di naat, di de facto indipendant Nagorno-Karabah Ripoblik ah Azabaijan tu di hiis, ah Iran ah di exkliev a Nakhchivan tu di sout.', '', 'Aat:', 'Aat a wah difrah-difrah rienj a yuuman aktiviti fi kriet vijual, aaditeri ar pofaamans aatifak – aatwok, we hexpress di aata himajinietiv ar teknikal skil, inten fi bi aprishiet fi deh byuuti ar imuoshanal powa. Ina deh muos jinaral faam dem aktiviti ya hingkluud di prodokshan a wok a haat, di kritisizim a haat, di todi a di ischri a haat, ah di hestetik diseminieshan a haat.', 'Di huolis faam a haat we dakiument a vijual aat, we ingkluud krieshan a himij ar abjik ina fiil we hingkluud pientin, skolpcha, printmekin, fotografi ah adaels vijual miidia. Aachitecha muotaim ingkluud az wan a di vijual aat; ousomeba, laka dekorietiv aat, ar advataizin, ihinvalv di krieshan a habjik we praktikal kansidarieshan a yuus isenshal—ina wie we no yuujal ina pientin, fi egzampl. Myuuzik, tieta, flim, daans, ah hadaels pofaamin aat, azwel lichicha ah hadaels miidia laka intaraktiv miidia, deh ingkluud ina braada difinishan a haat ar di haats. Optel di 17t senchri, haat kuda eh-refa tu heni skil ar maastari ah neh difranshiet frah kraaf ar sayans. Ina madan yuusij afta di 17t senchri, we hestetik kansidarieshan paramount, fain aat get separiet out ah distingguish frah skil we akuaya jinarali, laka dekorietiv ar aplai haat.', 'Aat kiah kiaraktaraiz ina toermz a mimiisis (di riprizentieshan a rialiti), expreshan, komiunikieshan a himuoshan, ar adaels kualiti. Juurin di Ruomantik piiriad, aat eh-komiin laka \"speshal fakolti a di yuuman main fi klasifai wid rilijan ah sayans\". Duo di difinishan a wa ah wa kanstityuut aat dispyuut ah chienj-chienj uoba taim, jinaral diskripshan menshan di aidie a himajinetiv ar teknikal skil we stem frah yuuman iejensi ah krieshan.', 'Di niecha a haat, ah rilietid kansep laka krietiviti ah intopritieshan, expluor ina branch a filasafi nuo az estetix.', '', 'Aatifishal intelijens:', 'Aatifishal intelijens (AI) a di intelijens egzibit bai mashiin ar saafwier. A di niem azwel fi di akademik fiil a stodi we stodi ou fi kriet kompyuuta ah kompyuuta saafwier we kiepebl a intelijent biyevia. Mieja AI risaaacha ah texbuk difain dis fiil az \"di stodi ah dizain a intelijent iejent\", we intelijent iejent a sistim we kiah rejista di invairament ifain iself ina ah tek akshan we maximaiz di chaans a sokses. Jan Makaati (John McCarthy), uu kain di toerm ina 1955, difaini az \"di sayans ah injinierin fi mek intelijent mashiin\".', '', 'Aatik:', 'Di Aatik a wahn riijan we de roun di Naat Puol a di Ort, opozit di Antaatik riijan roun di Sout Puol. Di aatik inkluud di Aatik Uoshan, an som paat a Kyanada, Griinlan (we Denmaak uon), Rosha, di Yunaitid Stiet (Alaska), Aislan, Naawie, Swiidn, ahn Finlan.', '', 'Abaashan:', 'Abaashan a di henin a prignansi bai rimuuv a fiitos ar embrio bifuo ikiah sovaiv outsaida di yuutaros. Abaashan we okor spantienosli nuo az miskiarij. Abaashan kiah kaaz fi poerpos ah den ikaal injuus abaashan, ar les friikuentli, \"injuus miskiarij\". Di wod \"abaashan\" noftaim yuuz fi miin onggl injuus abaashan. Simila prosiija afta di fiitos kuda eh potenshal sovaiv outsaida di wuum nuo az \"liet toerminieshan a prignansi\".', '', 'Abaiyojenisis:', 'Ina di nachral saiyans dem, abaiyojenisis, ar di arijin a laif, a di stodi a ou laif pan di ort kuda eva divelop outa non-livin mata. Ano di siem ting az evaluushan, faa dat a di stodi a ou difrent gruup a livin tingz chienj uova taim. Amiino asid, binuon az di \"bildin blak fi laif\", okor ina niecha, chuu kemikal riakshan we no rilietid to laif. Ina evri livin ting, amiino asid aaganaiz ina pruotiin; di kanschrokshan a dem ya pruotiin kom bout chuu di akshan a nyuukliik asid. Dat go fi miin se di kwestyan bout ou laif pan di ort kom bout afi du wid ou di fos nyuukliik asid kom bout.', 'Saiyantis don figa out som tingz bout di arijin a laif, bot som ada wan a stil di sobjek a korent risaach. Di fos livin ting dem pan di ort a wehn prabli singgl sel pruokariyuot. Di oules fasl maikruob-laik objek dem diet bak tu 3.5 Ga (bilian ier uol), jos a fyuu onjrid milian ier yongga dan di ort. Bai 2.4 Ga, di riesho a stiebl aisotup fi kaaban, aiyan, ahn solfa shuo di akshan a livin tingz pahn inaagyanik minaral ahn sediment ahn di molekyula baiyomaaka dem indikiet fuotosintesis, we shuo se laif pahn ort wehn kaman bai da taim ya.', 'Pan di neda an, di egzak aada a di kemikal iven tdem we liid tu di fos nyuukliik asid stil a wahn mischri. Nof difrent aipatisis bout orli laif mek op aredi; di muos kaman wan dem a di aiyan-solfa worl tiyori (metabolizm widout jinetiks) ahn di RNA worl aipatisis (RNA laif faam)', '', 'Abalishanizam:', 'Abalishanizam wehna muuvment fi \"h\"en di slieb chried ahn \"h\"imansipiet di sliebdem ina westan Yuurop ahn di Amorkadem. Nobadi moch no protes di slieb sistim tel di 18t senchri, wen rashanalis tinkadem a di \"h\"Inlaitnment kritisaizi fi vayaliet yuuman rait, ahn Kwieka ahn ada els ivanjelikal rilijos gruup kandemi az an-Kristian. Duo antisliebri sentiment wehn waidpred bai liet 18t senchri, iab likl imidiet ifek pahn di sentadem a sliebri iself — di Wes Indiz, Sout Amorka, ahn di sodorn Yunaitid Stiet. Di \"h\"impuotieshan a \"h\"Afrikan slieb wehn ban ina di British kalanidem ina 1807, ahn ina di Yunaitid Stiet ina 1808. Ina di British Wes Indiz, sliebri abalish ina 1827 ahn ina di French pozeshandem 15 ier lieta.', 'Ina Britn, Wiliam Wilbafuos (William Wilberforce) wehn tek aan di kaaz a abalishan ina 1787 afta di faamieshan a di Komiti fi di Abalishan a di Slieb Chried, ush ihn liid ina Paalimenchri kiampien fi abalish di slieb chried ina di British Empaya wid di Slieb Chried Ak 1807. Ihn alzwel kiampien fi di abalishan a sliebri ina di British Empaya, ahn ihn lib fi siit ina di Sliebri Abalishan Ak 1833.', 'Wel-nuoon Abalishanisdem inkluudn buot blak piipl, ahn wait piipl we nehn sopuot sliebri:', '', 'Abejar, Soria, Spien:', 'Abejar a wahn miunisipaliti luokiet ina di pravins a Soria, Kiastiil ahn León, Spien. Askaadn tu di 2007 sensos (INE), di miunisipaliti ab papyulieshan a 405 inabitant.', '', 'Iebriam:', 'Iebriam de ina di Buk a Jenisis an a di fos piechriaak a di Izrelait, di Ishmelait, di Midianait ah di Idomait piipldem. Ih rigyaad az di piechriaak a Juu, Kristian ah Muzlim piipl ah di smadi uu ep difain monotiyizim. Iebriam wena di tent jinarieshan frah Nuowa ah di 20t frah Adam. Ih faada wena Tera, an ih bredadem wena Niegor ah Haran. Askaadn tu Jenisis, Gad sen Iebriam fran ih yaad ina Ur Kasdim ah Haran tu Kienan, di lan we Yaawe pramis tu ih disendantdem. Deso, Abraham enta ina wan kovnant: ina exchienj fi rekanaiz Yaawe az Gad, im uda get bles wid nof pitni ah di lan uda bilangx tu dem. Juudizim, Kristianiti, ah Izlam muotaim refa tu az di Iebriamik rilijandem, kaa Iebriam plie mieja ruol ina aal a dem uoli buk.', '', 'Abraham Lincoln:', 'Abraham Lincoln wehna di sixtiint (16t) president a di Yunaitid Stiets. Im liid di konchri outa di bigis intornal kraisis I eva go chuu, di Amerikan Sivl Waar, we prizaab di yuuniyan an en slievri. Bifuo im get ilektid ina 1860 az di fos Ripoblikan president, Lincoln wehna wan laaya, Illinaai stiet lejislieta, wan memba a di Yunaitid Stiet Ous a Reprizentitiv, an wan tuu taim ansoksesful kyandidet tu di U.S. Senit. Im a when wan buol opuonent a di expanshan a slievri ina di Yunaitid Stiets. Lincoln win di Ripoblikan paati naminieshan ina 1860 an get ilek az president lieta da siem ier de. Im taim ina afis akyupai muosli wid di siseshanis Kanfedaret stiet dem fram di sivl waar. Im inchraduus meja fi abolish slievri, chuu di Imansipieshan Praklamieshan ina 1863 an di promuoshan a di Tortiint Amenment tu di kanstityuushan. Di siem taim wen di Sivl Waar out fi don, Lincoln bikom di fos Amerikan president fi get asasiniet. Abraham Lincoln kansistenti rangk bai skala az wan a di grietis U.S. Prezident dem.', '', 'Abuja:', 'Abuja a di kyapital fi Naijiiria.', '<hr><br>', '', 'Adalf Itla:', 'Adalf Itla, nuo az Adolf Hitler (Joerman pronongxieshan: ˈhɪtlɐ, 20 Iepril 1889 – 30 Iepril 1945), wena Aschrian-baan Joerman palitishan ah di liida a di Nashinal Suoshalis Joerman Woka Paati (Joerman: Nationalsozialistische Deutsche Arbeiterpartei, abriviet NSDAP), papiula nuo az di Naatsi Paati. Ih wena di ruula fi Joermani frah 1933 tu 1945, saab az chansla frah 1933 tu 1945 ah az ed a stiet (Führer und Reichskanzler) frah 1934 tu 1945.', 'Itla wena dekariet vechran a Wol Waar II, ah ih jain di Naatsi Paati ina 1920 ah bikomz di liida ina 1921. Afta ih get lakop fi a fiel kuu ina 1923, ih gien supuot bai promuot Joerman nashinalizim, anti-semitizim, ah anti-kamiunizim wid kiarizmatik arachri ah prapagianda. Ih get apaint chansla ina 1933, ah kwik-taim extablish ah mek rialiti ih vijan a tuotalitierianizim, aatokratik, singgl paati, nashinal suoshalis diktietaship. Itla poersyuu farin palisi wid di diklier guol fi siiz \"Lebensraum\" (\"\"libn spies\"\") fi Joermani, ah dairek di rizuos a di stiet tuwaad dis guol. Ih riibil di Wehrmacht (defens fuos) ah invied Puolan ina 1939, we liid tu di outbriek a Wol Waar II ina Yuurop.', '', 'Adisi:', 'Di Adisi (Griik: \"Ὀδύσσεια\" Odýsseia, pronongx [o.dýs.sej.ja] ina Klasikal Atik) a wan a tuu mieja ienshent Griik epik puoym achribiut tu Uoma. Di Adisi a paatli siikuel tu di Iliad, di eda wok we askraib tu Uoma. Di puoym fondamental tu di madoern Westan kianan, an a di sekan uolis extant wok a Westan lichicha, di Iliad a di uolis wan. Skala biliiv se iweh kompuoz nier di \"h\"en a di 8t senchri BCE, somwe ina Ayuonia, di Griik kuoastal riijan a Anatuolia.', '', 'Adolt:']\n"
     ]
    }
   ],
   "source": [
    "# grab 80 lines (paragraphs) from the file processed by Wiki.Extractor\n",
    "\n",
    "f = open(r\"fiwiki.txt\", \"r\")\n",
    "lines = []\n",
    "for line in f.readlines():\n",
    "    if len(lines) < 80:\n",
    "        lines.append(line.rstrip())\n",
    "f.close()\n",
    "print(lines)"
   ]
  },
  {
   "cell_type": "code",
   "execution_count": 3,
   "metadata": {
    "collapsed": true
   },
   "outputs": [],
   "source": [
    "# remove empty lines\n",
    "for i in lines:\n",
    "    if \"\" in lines:\n",
    "        lines.remove(\"\")"
   ]
  },
  {
   "cell_type": "code",
   "execution_count": 4,
   "metadata": {},
   "outputs": [
    {
     "name": "stdout",
     "output_type": "stream",
     "text": [
      "56\n"
     ]
    }
   ],
   "source": [
    "# length without emplty lines\n",
    "print(len(lines))"
   ]
  },
  {
   "cell_type": "code",
   "execution_count": null,
   "metadata": {
    "collapsed": true
   },
   "outputs": [],
   "source": []
  },
  {
   "cell_type": "code",
   "execution_count": 27,
   "metadata": {},
   "outputs": [
    {
     "name": "stdout",
     "output_type": "stream",
     "text": [
      "[['Aagianik kimischri a wah kimischri sobdisiplin we invalv di sayantifik stodi a di chokcha, prapati, ah riakshan a aagianik kompoun ah aagianik matiirial, i.e., mata ina vierios faam we kantien kaaban atom.'], ['Aajentiina, ofishali niem di Aajentiin Ripoblik, a di sekan bigis konchri ina Sout Amoerka, an a wah fedarieshan a 23 pravins an wah aatanamos siti, Buenos Airiz. Aajentiina a di iet-bigis konchri ina di wol bai lan ieria ah di bigis outa aal a di konchridem we ab Panish az ofishal languij, alduo Mexiko, Kolombia ah Spien ab muo piipl.'], ['Aajentiina:'], ['Abuja a di kyapital fi Naijiiria.'], ['1907 Kinston oertkwiek:'], ['Abalishanizam wehna muuvment fi \"h\"en di slieb chried ahn \"h\"imansipiet di sliebdem ina westan Yuurop ahn di Amorkadem. Nobadi moch no protes di slieb sistim tel di 18t senchri, wen rashanalis tinkadem a di \"h\"Inlaitnment kritisaizi fi vayaliet yuuman rait, ahn Kwieka ahn ada els ivanjelikal rilijos gruup kandemi az an-Kristian. Duo antisliebri sentiment wehn waidpred bai liet 18t senchri, iab likl imidiet ifek pahn di sentadem a sliebri iself — di Wes Indiz, Sout Amorka, ahn di sodorn Yunaitid Stiet. Di \"h\"impuotieshan a \"h\"Afrikan slieb wehn ban ina di British kalanidem ina 1807, ahn ina di Yunaitid Stiet ina 1808. Ina di British Wes Indiz, sliebri abalish ina 1827 ahn ina di French pozeshandem 15 ier lieta.'], ['Ina fizix, aabit a di gravitieshanal koerv paat a wah abjek rong wah paint ina spies, fi egzampl di aabit a planit rong wah staar, ar nachral satilait rong wah planit. Aabit a planit tipikali iliptikal, ah di senchral mas we aabit de a di fuokal paint a di ilips. Korant andastandin a di mikianix a aabital muoshan bies pah Alboert Ainstain jinaral tiiri a relitiviti, we akount fi graviti az juu tu koervacha a spies-taim, wid aabit we fala jiodiisix. Fi iiz a kialkiulieshan, relitiviti kamanli apraximiet bai di fuos-bies tiiri a yunivoersal gravitieshan bies pah Kepla laa a planiteri muoshan.'], ['<hr><br>'], ['Adolt:'], ['Itla wena dekariet vechran a Wol Waar II, ah ih jain di Naatsi Paati ina 1920 ah bikomz di liida ina 1921. Afta ih get lakop fi a fiel kuu ina 1923, ih gien supuot bai promuot Joerman nashinalizim, anti-semitizim, ah anti-kamiunizim wid kiarizmatik arachri ah prapagianda. Ih get apaint chansla ina 1933, ah kwik-taim extablish ah mek rialiti ih vijan a tuotalitierianizim, aatokratik, singgl paati, nashinal suoshalis diktietaship. Itla poersyuu farin palisi wid di diklier guol fi siiz \"Lebensraum\" (\"\"libn spies\"\") fi Joermani, ah dairek di rizuos a di stiet tuwaad dis guol. Ih riibil di Wehrmacht (defens fuos) ah invied Puolan ina 1939, we liid tu di outbriek a Wol Waar II ina Yuurop.'], ['Aatifishal intelijens:'], ['Di Aatik a wahn riijan we de roun di Naat Puol a di Ort, opozit di Antaatik riijan roun di Sout Puol. Di aatik inkluud di Aatik Uoshan, an som paat a Kyanada, Griinlan (we Denmaak uon), Rosha, di Yunaitid Stiet (Alaska), Aislan, Naawie, Swiidn, ahn Finlan.'], ['Aamiinia:'], ['Abaashan a di henin a prignansi bai rimuuv a fiitos ar embrio bifuo ikiah sovaiv outsaida di yuutaros. Abaashan we okor spantienosli nuo az miskiarij. Abaashan kiah kaaz fi poerpos ah den ikaal injuus abaashan, ar les friikuentli, \"injuus miskiarij\". Di wod \"abaashan\" noftaim yuuz fi miin onggl injuus abaashan. Simila prosiija afta di fiitos kuda eh potenshal sovaiv outsaida di wuum nuo az \"liet toerminieshan a prignansi\".'], ['Abejar, Soria, Spien:'], ['Di huolis faam a haat we dakiument a vijual aat, we ingkluud krieshan a himij ar abjik ina fiil we hingkluud pientin, skolpcha, printmekin, fotografi ah adaels vijual miidia. Aachitecha muotaim ingkluud az wan a di vijual aat; ousomeba, laka dekorietiv aat, ar advataizin, ihinvalv di krieshan a habjik we praktikal kansidarieshan a yuus isenshal—ina wie we no yuujal ina pientin, fi egzampl. Myuuzik, tieta, flim, daans, ah hadaels pofaamin aat, azwel lichicha ah hadaels miidia laka intaraktiv miidia, deh ingkluud ina braada difinishan a haat ar di haats. Optel di 17t senchri, haat kuda eh-refa tu heni skil ar maastari ah neh difranshiet frah kraaf ar sayans. Ina madan yuusij afta di 17t senchri, we hestetik kansidarieshan paramount, fain aat get separiet out ah distingguish frah skil we akuaya jinarali, laka dekorietiv ar aplai haat.'], ['Aabit:'], ['Pan di neda an, di egzak aada a di kemikal iven tdem we liid tu di fos nyuukliik asid stil a wahn mischri. Nof difrent aipatisis bout orli laif mek op aredi; di muos kaman wan dem a di aiyan-solfa worl tiyori (metabolizm widout jinetiks) ahn di RNA worl aipatisis (RNA laif faam)'], ['Ina Britn, Wiliam Wilbafuos (William Wilberforce) wehn tek aan di kaaz a abalishan ina 1787 afta di faamieshan a di Komiti fi di Abalishan a di Slieb Chried, ush ihn liid ina Paalimenchri kiampien fi abalish di slieb chried ina di British Empaya wid di Slieb Chried Ak 1807. Ihn alzwel kiampien fi di abalishan a sliebri ina di British Empaya, ahn ihn lib fi siit ina di Sliebri Abalishan Ak 1833.'], ['Di \"h\"Ax a di Apasl adawaiz kaal \"h\"Ax ah wahn a di buk dem a di Baibl ahn ah di falarop to .'], ['Aakeschra:'], ['Di 2011 Jumiekan jinaral ilekshan eh-huol pah 29 Disemba 2011 ina Jumieka. Di ilekshan eh-kantes mienli bitwiin di nieshan tuu mieja palitikal paati, di gobanin Jumieka Lieba Paati (JLP), liid bai Anju Uolnis, ah di apazishan Piipl Nashinal Paati (PNP) liid bai Puosha Simsn-Mila. Di rizolt ena lanslaid vikchri fi di PNP we win 42 a di 63 siit, a tuu-tod majariti.'], ['Aakeschra a laaj inschrumental ohsambl yuuz ina klasikal myuuzik we kantien sekshan a chring (vailin, vyuola, chelo ah dobbl bies), braas, udwin, ah pokoshan inschrument.'], ['Abuja:'], ['Aachitecha (Latn architectura, frah di Griik ἀρχιτέκτων arkhitekton \"aachitek\", frah ἀρχι- \"chiif\" ah τέκτων \"bilda\") a buot di pruoses ah di prodok a planin, dizainin, ah kanschrokin bildin ah ada fizikal chokcha.'], ['Ina di nachral saiyans dem, abaiyojenisis, ar di arijin a laif, a di stodi a ou laif pan di ort kuda eva divelop outa non-livin mata. Ano di siem ting az evaluushan, faa dat a di stodi a ou difrent gruup a livin tingz chienj uova taim. Amiino asid, binuon az di \"bildin blak fi laif\", okor ina niecha, chuu kemikal riakshan we no rilietid to laif. Ina evri livin ting, amiino asid aaganaiz ina pruotiin; di kanschrokshan a dem ya pruotiin kom bout chuu di akshan a nyuukliik asid. Dat go fi miin se di kwestyan bout ou laif pan di ort kom bout afi du wid ou di fos nyuukliik asid kom bout.'], ['Iebriam:'], ['Di Adisi (Griik: \"Ὀδύσσεια\" Odýsseia, pronongx [o.dýs.sej.ja] ina Klasikal Atik) a wan a tuu mieja ienshent Griik epik puoym achribiut tu Uoma. Di Adisi a paatli siikuel tu di Iliad, di eda wok we askraib tu Uoma. Di puoym fondamental tu di madoern Westan kianan, an a di sekan uolis extant wok a Westan lichicha, di Iliad a di uolis wan. Skala biliiv se iweh kompuoz nier di \"h\"en a di 8t senchri BCE, somwe ina Ayuonia, di Griik kuoastal riijan a Anatuolia.'], ['Abalishanizam:'], ['Adalf Itla, nuo az Adolf Hitler (Joerman pronongxieshan: ˈhɪtlɐ, 20 Iepril 1889 – 30 Iepril 1945), wena Aschrian-baan Joerman palitishan ah di liida a di Nashinal Suoshalis Joerman Woka Paati (Joerman: Nationalsozialistische Deutsche Arbeiterpartei, abriviet NSDAP), papiula nuo az di Naatsi Paati. Ih wena di ruula fi Joermani frah 1933 tu 1945, saab az chansla frah 1933 tu 1945 ah az ed a stiet (Führer und Reichskanzler) frah 1934 tu 1945.'], ['Aafwe Chrii, Sint Anju, Jumieka:'], ['2011 Jumiekan jinaral ilekshan:'], ['Aat:'], ['Di niecha a haat, ah rilietid kansep laka krietiviti ah intopritieshan, expluor ina branch a filasafi nuo az estetix.'], ['Aat a wah difrah-difrah rienj a yuuman aktiviti fi kriet vijual, aaditeri ar pofaamans aatifak – aatwok, we hexpress di aata himajinietiv ar teknikal skil, inten fi bi aprishiet fi deh byuuti ar imuoshanal powa. Ina deh muos jinaral faam dem aktiviti ya hingkluud di prodokshan a wok a haat, di kritisizim a haat, di todi a di ischri a haat, ah di hestetik diseminieshan a haat.'], ['Iebriam de ina di Buk a Jenisis an a di fos piechriaak a di Izrelait, di Ishmelait, di Midianait ah di Idomait piipldem. Ih rigyaad az di piechriaak a Juu, Kristian ah Muzlim piipl ah di smadi uu ep difain monotiyizim. Iebriam wena di tent jinarieshan frah Nuowa ah di 20t frah Adam. Ih faada wena Tera, an ih bredadem wena Niegor ah Haran. Askaadn tu Jenisis, Gad sen Iebriam fran ih yaad ina Ur Kasdim ah Haran tu Kienan, di lan we Yaawe pramis tu ih disendantdem. Deso, Abraham enta ina wan kovnant: ina exchienj fi rekanaiz Yaawe az Gad, im uda get bles wid nof pitni ah di lan uda bilangx tu dem. Juudizim, Kristianiti, ah Izlam muotaim refa tu az di Iebriamik rilijandem, kaa Iebriam plie mieja ruol ina aal a dem uoli buk.'], ['Abaashan:'], ['Saiyantis don figa out som tingz bout di arijin a laif, bot som ada wan a stil di sobjek a korent risaach. Di fos livin ting dem pan di ort a wehn prabli singgl sel pruokariyuot. Di oules fasl maikruob-laik objek dem diet bak tu 3.5 Ga (bilian ier uol), jos a fyuu onjrid milian ier yongga dan di ort. Bai 2.4 Ga, di riesho a stiebl aisotup fi kaaban, aiyan, ahn solfa shuo di akshan a livin tingz pahn inaagyanik minaral ahn sediment ahn di molekyula baiyomaaka dem indikiet fuotosintesis, we shuo se laif pahn ort wehn kaman bai da taim ya.'], ['Di 2010 Kinston anres, dob luokali az di Tivoli Ingkoerjan, wena aam kanflik bitwiin di Showa Pasi jrog kyaatel ah Jumieka milichri ah poliis fuos ina Kinston, di kiapital a Jumieka. Di kanflik eh-bigin pah di 23 Mie 2010 az sikioriti fuos taat fi saach fi mieja jrog laad Kristifa \"Dudus\" Kuok, afta di Yunaitid Stiet rikues ih exchradishan, ah di liida a di kriminal giang we atak sebral poliis stieshan. Di voilens, we muosli tek plies uoba 24–25 Mie, kil akliis 73 sivilian ah wuun akliis 35 muo. Fuo suoja/poliis get kil tu ah muo dah 500 ares eh-mek, az Jumiekan poliis ah suoja fait gonman ina di Tivoli Gyaadn dischrik a Kinston.'], ['Adisi:'], ['Aafwe Chrii a di kiapital fi Sint Anju Parish.'], ['Aatifishal intelijens (AI) a di intelijens egzibit bai mashiin ar saafwier. A di niem azwel fi di akademik fiil a stodi we stodi ou fi kriet kompyuuta ah kompyuuta saafwier we kiepebl a intelijent biyevia. Mieja AI risaaacha ah texbuk difain dis fiil az \"di stodi ah dizain a intelijent iejent\", we intelijent iejent a sistim we kiah rejista di invairament ifain iself ina ah tek akshan we maximaiz di chaans a sokses. Jan Makaati (John McCarthy), uu kain di toerm ina 1955, difaini az \"di sayans ah injinierin fi mek intelijent mashiin\".'], ['Adalf Itla:'], ['Abraham Lincoln wehna di sixtiint (16t) president a di Yunaitid Stiets. Im liid di konchri outa di bigis intornal kraisis I eva go chuu, di Amerikan Sivl Waar, we prizaab di yuuniyan an en slievri. Bifuo im get ilektid ina 1860 az di fos Ripoblikan president, Lincoln wehna wan laaya, Illinaai stiet lejislieta, wan memba a di Yunaitid Stiet Ous a Reprizentitiv, an wan tuu taim ansoksesful kyandidet tu di U.S. Senit. Im a when wan buol opuonent a di expanshan a slievri ina di Yunaitid Stiets. Lincoln win di Ripoblikan paati naminieshan ina 1860 an get ilek az president lieta da siem ier de. Im taim ina afis akyupai muosli wid di siseshanis Kanfedaret stiet dem fram di sivl waar. Im inchraduus meja fi abolish slievri, chuu di Imansipieshan Praklamieshan ina 1863 an di promuoshan a di Tortiint Amenment tu di kanstityuushan. Di siem taim wen di Sivl Waar out fi don, Lincoln bikom di fos Amerikan president fi get asasiniet. Abraham Lincoln kansistenti rangk bai skala az wan a di grietis U.S. Prezident dem.'], ['Wel-nuoon Abalishanisdem inkluudn buot blak piipl, ahn wait piipl we nehn sopuot sliebri:'], ['Aat kiah kiaraktaraiz ina toermz a mimiisis (di riprizentieshan a rialiti), expreshan, komiunikieshan a himuoshan, ar adaels kualiti. Juurin di Ruomantik piiriad, aat eh-komiin laka \"speshal fakolti a di yuuman main fi klasifai wid rilijan ah sayans\". Duo di difinishan a wa ah wa kanstityuut aat dispyuut ah chienj-chienj uoba taim, jinaral diskripshan menshan di aidie a himajinetiv ar teknikal skil we stem frah yuuman iejensi ah krieshan.'], ['Aamiinia (Aamiinian: \"Հայաստան\", chr. \"Hayastan\", IPA: ), ofishali di Ripoblik a Aamiinia (Aamiinian: \"Հայաստանի Հանրապետություն\", chr. \"Hayastani Hanrapetut’yun\"), a wah savrin stiet ina di Sout Kaakasos riijan a Yuurieja. Lokiet ina Westan Ieja, ibaada bai Toerki tu di wes, Jaaja tu di naat, di de facto indipendant Nagorno-Karabah Ripoblik ah Azabaijan tu di hiis, ah Iran ah di exkliev a Nakhchivan tu di sout.'], ['Aatik:'], ['Abraham Lincoln:'], ['Ax a di Apasl:'], ['Abejar a wahn miunisipaliti luokiet ina di pravins a Soria, Kiastiil ahn León, Spien. Askaadn tu di 2007 sensos (INE), di miunisipaliti ab papyulieshan a 405 inabitant.'], ['2010 Kinston anres:'], ['Aagianik kimischri:'], ['Abaiyojenisis:'], ['Aachitecha:'], ['Di 1907 Kinston oertkwiek we shiekop di kiapital a di ailan a Jumieka wid magnityuud 6.5 pah di muoment magnityuud skiel pah Monde 14 Janiweri, about 3:30 pm luokal taim (20:36 UTC), eh-kansida bai nof raita a di taim fi bi wan a di wol dedlies oertkwiek rikaad ina ischri. Ebri bildin ina Kinston get damij bai di oertkwiek ah sobsikuent fayadem, we laas fi chrii howa bifuo hefoert eh-mek fi put dem out. Ikolminiet ina di det a 800 tu 1,000 piipl, ah lef apraximetli 10,000 uomles ah $25,000,000 ina matiirial damij. Likl afta, wah sunaami eh-ripuot pah di naat kuos a Jumieka, wi maximom wiev ait about 2 m (6–8 ft).']]\n"
     ]
    }
   ],
   "source": [
    "# \n",
    "paras = [[i] for i in lines]\n",
    "shuffle(paras)\n",
    "print(paras)"
   ]
  },
  {
   "cell_type": "code",
   "execution_count": 39,
   "metadata": {
    "collapsed": true
   },
   "outputs": [],
   "source": [
    "with open('paras.txt', 'w') as f:\n",
    "    for item in paras:\n",
    "        for i in item:\n",
    "            f.write(\"%s\\n\" % i)"
   ]
  },
  {
   "cell_type": "code",
   "execution_count": 44,
   "metadata": {},
   "outputs": [
    {
     "name": "stdout",
     "output_type": "stream",
     "text": [
      "Aagianik kimischri a wah kimischri sobdisiplin we invalv di sayantifik stodi a di chokcha, prapati, ah riakshan a aagianik kompoun ah aagianik matiirial, i.e., mata ina vierios faam we kantien kaaban atom.\n",
      "Aajentiina, ofishali niem di Aajentiin Ripoblik, a di sekan bigis konchri ina Sout Amoerka, an a wah fedarieshan a 23 pravins an wah aatanamos siti, Buenos Airiz.\n",
      "Aajentiina a di iet-bigis konchri ina di wol bai lan ieria ah di bigis outa aal a di konchridem we ab Panish az ofishal languij, alduo Mexiko, Kolombia ah Spien ab muo piipl.\n",
      "Aajentiina:\n",
      "Abuja a di kyapital fi Naijiiria.\n",
      "1907 Kinston oertkwiek:\n",
      "Abalishanizam wehna muuvment fi \"h\"en di slieb chried ahn \"h\"imansipiet di sliebdem ina westan Yuurop ahn di Amorkadem.\n",
      "Nobadi moch no protes di slieb sistim tel di 18t senchri, wen rashanalis tinkadem a di \"h\"Inlaitnment kritisaizi fi vayaliet yuuman rait, ahn Kwieka ahn ada els ivanjelikal rilijos gruup kandemi az an-Kristian.\n",
      "Duo antisliebri sentiment wehn waidpred bai liet 18t senchri, iab likl imidiet ifek pahn di sentadem a sliebri iself — di Wes Indiz, Sout Amorka, ahn di sodorn Yunaitid Stiet.\n",
      "Di \"h\"impuotieshan a \"h\"Afrikan slieb wehn ban ina di British kalanidem ina 1807, ahn ina di Yunaitid Stiet ina 1808.\n",
      "Ina di British Wes Indiz, sliebri abalish ina 1827 ahn ina di French pozeshandem 15 ier lieta.\n",
      "Ina fizix, aabit a di gravitieshanal koerv paat a wah abjek rong wah paint ina spies, fi egzampl di aabit a planit rong wah staar, ar nachral satilait rong wah planit.\n",
      "Aabit a planit tipikali iliptikal, ah di senchral mas we aabit de a di fuokal paint a di ilips.\n",
      "Korant andastandin a di mikianix a aabital muoshan bies pah Alboert Ainstain jinaral tiiri a relitiviti, we akount fi graviti az juu tu koervacha a spies-taim, wid aabit we fala jiodiisix.\n",
      "Fi iiz a kialkiulieshan, relitiviti kamanli apraximiet bai di fuos-bies tiiri a yunivoersal gravitieshan bies pah Kepla laa a planiteri muoshan.\n",
      "<hr><br>\n",
      "Adolt:\n",
      "Itla wena dekariet vechran a Wol Waar II, ah ih jain di Naatsi Paati ina 1920 ah bikomz di liida ina 1921.\n",
      "Afta ih get lakop fi a fiel kuu ina 1923, ih gien supuot bai promuot Joerman nashinalizim, anti-semitizim, ah anti-kamiunizim wid kiarizmatik arachri ah prapagianda.\n",
      "Ih get apaint chansla ina 1933, ah kwik-taim extablish ah mek rialiti ih vijan a tuotalitierianizim, aatokratik, singgl paati, nashinal suoshalis diktietaship.\n",
      "Itla poersyuu farin palisi wid di diklier guol fi siiz \"Lebensraum\" (\"\"libn spies\"\") fi Joermani, ah dairek di rizuos a di stiet tuwaad dis guol.\n",
      "Ih riibil di Wehrmacht (defens fuos) ah invied Puolan ina 1939, we liid tu di outbriek a Wol Waar II ina Yuurop.\n",
      "Aatifishal intelijens:\n",
      "Di Aatik a wahn riijan we de roun di Naat Puol a di Ort, opozit di Antaatik riijan roun di Sout Puol.\n",
      "Di aatik inkluud di Aatik Uoshan, an som paat a Kyanada, Griinlan (we Denmaak uon), Rosha, di Yunaitid Stiet (Alaska), Aislan, Naawie, Swiidn, ahn Finlan.\n",
      "Aamiinia:\n",
      "Abaashan a di henin a prignansi bai rimuuv a fiitos ar embrio bifuo ikiah sovaiv outsaida di yuutaros.\n",
      "Abaashan we okor spantienosli nuo az miskiarij.\n",
      "Abaashan kiah kaaz fi poerpos ah den ikaal injuus abaashan, ar les friikuentli, \"injuus miskiarij\".\n",
      "Di wod \"abaashan\" noftaim yuuz fi miin onggl injuus abaashan.\n",
      "Simila prosiija afta di fiitos kuda eh potenshal sovaiv outsaida di wuum nuo az \"liet toerminieshan a prignansi\".\n",
      "Abejar, Soria, Spien:\n",
      "Di huolis faam a haat we dakiument a vijual aat, we ingkluud krieshan a himij ar abjik ina fiil we hingkluud pientin, skolpcha, printmekin, fotografi ah adaels vijual miidia.\n",
      "Aachitecha muotaim ingkluud az wan a di vijual aat; ousomeba, laka dekorietiv aat, ar advataizin, ihinvalv di krieshan a habjik we praktikal kansidarieshan a yuus isenshal—ina wie we no yuujal ina pientin, fi egzampl.\n",
      "Myuuzik, tieta, flim, daans, ah hadaels pofaamin aat, azwel lichicha ah hadaels miidia laka intaraktiv miidia, deh ingkluud ina braada difinishan a haat ar di haats.\n",
      "Optel di 17t senchri, haat kuda eh-refa tu heni skil ar maastari ah neh difranshiet frah kraaf ar sayans.\n",
      "Ina madan yuusij afta di 17t senchri, we hestetik kansidarieshan paramount, fain aat get separiet out ah distingguish frah skil we akuaya jinarali, laka dekorietiv ar aplai haat.\n",
      "Aabit:\n",
      "Pan di neda an, di egzak aada a di kemikal iven tdem we liid tu di fos nyuukliik asid stil a wahn mischri.\n",
      "Nof difrent aipatisis bout orli laif mek op aredi; di muos kaman wan dem a di aiyan-solfa worl tiyori (metabolizm widout jinetiks) ahn di RNA worl aipatisis (RNA laif faam)\n",
      "Ina Britn, Wiliam Wilbafuos (William Wilberforce) wehn tek aan di kaaz a abalishan ina 1787 afta di faamieshan a di Komiti fi di Abalishan a di Slieb Chried, ush ihn liid ina Paalimenchri kiampien fi abalish di slieb chried ina di British Empaya wid di Slieb Chried Ak 1807.\n",
      "Ihn alzwel kiampien fi di abalishan a sliebri ina di British Empaya, ahn ihn lib fi siit ina di Sliebri Abalishan Ak 1833.\n",
      "Di \"h\"Ax a di Apasl adawaiz kaal \"h\"Ax ah wahn a di buk dem a di Baibl ahn ah di falarop to .\n",
      "Aakeschra:\n",
      "Di 2011 Jumiekan jinaral ilekshan eh-huol pah 29 Disemba 2011 ina Jumieka.\n",
      "Di ilekshan eh-kantes mienli bitwiin di nieshan tuu mieja palitikal paati, di gobanin Jumieka Lieba Paati (JLP), liid bai Anju Uolnis, ah di apazishan Piipl Nashinal Paati (PNP) liid bai Puosha Simsn-Mila.\n",
      "Di rizolt ena lanslaid vikchri fi di PNP we win 42 a di 63 siit, a tuu-tod majariti.\n",
      "Aakeschra a laaj inschrumental ohsambl yuuz ina klasikal myuuzik we kantien sekshan a chring (vailin, vyuola, chelo ah dobbl bies), braas, udwin, ah pokoshan inschrument.\n",
      "Abuja:\n",
      "Aachitecha (Latn architectura, frah di Griik ἀρχιτέκτων arkhitekton \"aachitek\", frah ἀρχι- \"chiif\" ah τέκτων \"bilda\") a buot di pruoses ah di prodok a planin, dizainin, ah kanschrokin bildin ah ada fizikal chokcha.\n",
      "Ina di nachral saiyans dem, abaiyojenisis, ar di arijin a laif, a di stodi a ou laif pan di ort kuda eva divelop outa non-livin mata.\n",
      "Ano di siem ting az evaluushan, faa dat a di stodi a ou difrent gruup a livin tingz chienj uova taim.\n",
      "Amiino asid, binuon az di \"bildin blak fi laif\", okor ina niecha, chuu kemikal riakshan we no rilietid to laif.\n",
      "Ina evri livin ting, amiino asid aaganaiz ina pruotiin; di kanschrokshan a dem ya pruotiin kom bout chuu di akshan a nyuukliik asid.\n",
      "Dat go fi miin se di kwestyan bout ou laif pan di ort kom bout afi du wid ou di fos nyuukliik asid kom bout.\n",
      "Iebriam:\n",
      "Di Adisi (Griik: \"Ὀδύσσεια\" Odýsseia, pronongx [o.dýs.sej.ja] ina Klasikal Atik) a wan a tuu mieja ienshent Griik epik puoym achribiut tu Uoma.\n",
      "Di Adisi a paatli siikuel tu di Iliad, di eda wok we askraib tu Uoma.\n",
      "Di puoym fondamental tu di madoern Westan kianan, an a di sekan uolis extant wok a Westan lichicha, di Iliad a di uolis wan.\n",
      "Skala biliiv se iweh kompuoz nier di \"h\"en a di 8t senchri BCE, somwe ina Ayuonia, di Griik kuoastal riijan a Anatuolia.\n",
      "Abalishanizam:\n",
      "Adalf Itla, nuo az Adolf Hitler (Joerman pronongxieshan: ˈhɪtlɐ, 20 Iepril 1889 – 30 Iepril 1945), wena Aschrian-baan Joerman palitishan ah di liida a di Nashinal Suoshalis Joerman Woka Paati (Joerman: Nationalsozialistische Deutsche Arbeiterpartei, abriviet NSDAP), papiula nuo az di Naatsi Paati.\n",
      "Ih wena di ruula fi Joermani frah 1933 tu 1945, saab az chansla frah 1933 tu 1945 ah az ed a stiet (Führer und Reichskanzler) frah 1934 tu 1945.\n",
      "Aafwe Chrii, Sint Anju, Jumieka:\n",
      "2011 Jumiekan jinaral ilekshan:\n",
      "Aat:\n",
      "Di niecha a haat, ah rilietid kansep laka krietiviti ah intopritieshan, expluor ina branch a filasafi nuo az estetix.\n",
      "Aat a wah difrah-difrah rienj a yuuman aktiviti fi kriet vijual, aaditeri ar pofaamans aatifak – aatwok, we hexpress di aata himajinietiv ar teknikal skil, inten fi bi aprishiet fi deh byuuti ar imuoshanal powa.\n",
      "Ina deh muos jinaral faam dem aktiviti ya hingkluud di prodokshan a wok a haat, di kritisizim a haat, di todi a di ischri a haat, ah di hestetik diseminieshan a haat.\n",
      "Iebriam de ina di Buk a Jenisis an a di fos piechriaak a di Izrelait, di Ishmelait, di Midianait ah di Idomait piipldem.\n",
      "Ih rigyaad az di piechriaak a Juu, Kristian ah Muzlim piipl ah di smadi uu ep difain monotiyizim.\n",
      "Iebriam wena di tent jinarieshan frah Nuowa ah di 20t frah Adam.\n",
      "Ih faada wena Tera, an ih bredadem wena Niegor ah Haran.\n",
      "Askaadn tu Jenisis, Gad sen Iebriam fran ih yaad ina Ur Kasdim ah Haran tu Kienan, di lan we Yaawe pramis tu ih disendantdem.\n",
      "Deso, Abraham enta ina wan kovnant: ina exchienj fi rekanaiz Yaawe az Gad, im uda get bles wid nof pitni ah di lan uda bilangx tu dem.\n",
      "Juudizim, Kristianiti, ah Izlam muotaim refa tu az di Iebriamik rilijandem, kaa Iebriam plie mieja ruol ina aal a dem uoli buk.\n",
      "Abaashan:\n",
      "Saiyantis don figa out som tingz bout di arijin a laif, bot som ada wan a stil di sobjek a korent risaach.\n",
      "Di fos livin ting dem pan di ort a wehn prabli singgl sel pruokariyuot.\n",
      "Di oules fasl maikruob-laik objek dem diet bak tu 3.5 Ga (bilian ier uol), jos a fyuu onjrid milian ier yongga dan di ort.\n",
      "Bai 2.4 Ga, di riesho a stiebl aisotup fi kaaban, aiyan, ahn solfa shuo di akshan a livin tingz pahn inaagyanik minaral ahn sediment ahn di molekyula baiyomaaka dem indikiet fuotosintesis, we shuo se laif pahn ort wehn kaman bai da taim ya.\n",
      "Di 2010 Kinston anres, dob luokali az di Tivoli Ingkoerjan, wena aam kanflik bitwiin di Showa Pasi jrog kyaatel ah Jumieka milichri ah poliis fuos ina Kinston, di kiapital a Jumieka.\n",
      "Di kanflik eh-bigin pah di 23 Mie 2010 az sikioriti fuos taat fi saach fi mieja jrog laad Kristifa \"Dudus\" Kuok, afta di Yunaitid Stiet rikues ih exchradishan, ah di liida a di kriminal giang we atak sebral poliis stieshan.\n",
      "Di voilens, we muosli tek plies uoba 24–25 Mie, kil akliis 73 sivilian ah wuun akliis 35 muo.\n",
      "Fuo suoja/poliis get kil tu ah muo dah 500 ares eh-mek, az Jumiekan poliis ah suoja fait gonman ina di Tivoli Gyaadn dischrik a Kinston.\n",
      "Adisi:\n",
      "Aafwe Chrii a di kiapital fi Sint Anju Parish.\n",
      "Aatifishal intelijens (AI) a di intelijens egzibit bai mashiin ar saafwier.\n",
      "A di niem azwel fi di akademik fiil a stodi we stodi ou fi kriet kompyuuta ah kompyuuta saafwier we kiepebl a intelijent biyevia.\n",
      "Mieja AI risaaacha ah texbuk difain dis fiil az \"di stodi ah dizain a intelijent iejent\", we intelijent iejent a sistim we kiah rejista di invairament ifain iself ina ah tek akshan we maximaiz di chaans a sokses.\n",
      "Jan Makaati (John McCarthy), uu kain di toerm ina 1955, difaini az \"di sayans ah injinierin fi mek intelijent mashiin\".\n",
      "Adalf Itla:\n",
      "Abraham Lincoln wehna di sixtiint (16t) president a di Yunaitid Stiets.\n",
      "Im liid di konchri outa di bigis intornal kraisis I eva go chuu, di Amerikan Sivl Waar, we prizaab di yuuniyan an en slievri.\n",
      "Bifuo im get ilektid ina 1860 az di fos Ripoblikan president, Lincoln wehna wan laaya, Illinaai stiet lejislieta, wan memba a di Yunaitid Stiet Ous a Reprizentitiv, an wan tuu taim ansoksesful kyandidet tu di U.S. Senit.\n",
      "Im a when wan buol opuonent a di expanshan a slievri ina di Yunaitid Stiets.\n",
      "Lincoln win di Ripoblikan paati naminieshan ina 1860 an get ilek az president lieta da siem ier de.\n",
      "Im taim ina afis akyupai muosli wid di siseshanis Kanfedaret stiet dem fram di sivl waar.\n",
      "Im inchraduus meja fi abolish slievri, chuu di Imansipieshan Praklamieshan ina 1863 an di promuoshan a di Tortiint Amenment tu di kanstityuushan.\n",
      "Di siem taim wen di Sivl Waar out fi don, Lincoln bikom di fos Amerikan president fi get asasiniet.\n",
      "Abraham Lincoln kansistenti rangk bai skala az wan a di grietis U.S. Prezident dem.\n",
      "Wel-nuoon Abalishanisdem inkluudn buot blak piipl, ahn wait piipl we nehn sopuot sliebri:\n",
      "Aat kiah kiaraktaraiz ina toermz a mimiisis (di riprizentieshan a rialiti), expreshan, komiunikieshan a himuoshan, ar adaels kualiti.\n",
      "Juurin di Ruomantik piiriad, aat eh-komiin laka \"speshal fakolti a di yuuman main fi klasifai wid rilijan ah sayans\".\n",
      "Duo di difinishan a wa ah wa kanstityuut aat dispyuut ah chienj-chienj uoba taim, jinaral diskripshan menshan di aidie a himajinetiv ar teknikal skil we stem frah yuuman iejensi ah krieshan.\n",
      "Aamiinia (Aamiinian: \"Հայաստան\", chr.\n",
      "\"Hayastan\", IPA: ), ofishali di Ripoblik a Aamiinia (Aamiinian: \"Հայաստանի Հանրապետություն\", chr.\n",
      "\"Hayastani Hanrapetut’yun\"), a wah savrin stiet ina di Sout Kaakasos riijan a Yuurieja.\n",
      "Lokiet ina Westan Ieja, ibaada bai Toerki tu di wes, Jaaja tu di naat, di de facto indipendant Nagorno-Karabah Ripoblik ah Azabaijan tu di hiis, ah Iran ah di exkliev a Nakhchivan tu di sout.\n",
      "Aatik:\n",
      "Abraham Lincoln:\n",
      "Ax a di Apasl:\n",
      "Abejar a wahn miunisipaliti luokiet ina di pravins a Soria, Kiastiil ahn León, Spien.\n",
      "Askaadn tu di 2007 sensos (INE), di miunisipaliti ab papyulieshan a 405 inabitant.\n",
      "2010 Kinston anres:\n",
      "Aagianik kimischri:\n",
      "Abaiyojenisis:\n",
      "Aachitecha:\n",
      "Di 1907 Kinston oertkwiek we shiekop di kiapital a di ailan a Jumieka wid magnityuud 6.5 pah di muoment magnityuud skiel pah Monde 14 Janiweri, about 3:30 pm luokal taim (20:36 UTC), eh-kansida bai nof raita a di taim fi bi wan a di wol dedlies oertkwiek rikaad ina ischri.\n",
      "Ebri bildin ina Kinston get damij bai di oertkwiek ah sobsikuent fayadem, we laas fi chrii howa bifuo hefoert eh-mek fi put dem out.\n",
      "Ikolminiet ina di det a 800 tu 1,000 piipl, ah lef apraximetli 10,000 uomles ah $25,000,000 ina matiirial damij.\n",
      "Likl afta, wah sunaami eh-ripuot pah di naat kuos a Jumieka, wi maximom wiev ait about 2 m (6–8 ft).\n"
     ]
    }
   ],
   "source": [
    "with open(\"paras.txt\", 'r') as f:\n",
    "    file_content = open(\"paras.txt\").read()\n",
    "    sentences = sent_tokenize(file_content)\n",
    "for sentence in sentences:\n",
    "    print(sentence)"
   ]
  },
  {
   "cell_type": "markdown",
   "metadata": {},
   "source": [
    "MorphAdorner's default sentence splitter"
   ]
  },
  {
   "cell_type": "markdown",
   "metadata": {},
   "source": [
    "1\tAagianik kimischri a wah kimischri sobdisiplin we invalv di sayantifik stodi a di chokcha, prapati, ah riakshan a aagianik kompoun ah aagianik matiirial, i.e., mata ina vierios faam we kantien kaaban atom.\n",
    "2\tAajentiina, ofishali niem di Aajentiin Ripoblik, a di sekan bigis konchri ina Sout Amoerka, an a wah fedarieshan a 23 pravins an wah aatanamos siti, Buenos Airiz.\n",
    "3\tAajentiina a di iet-bigis konchri ina di wol bai lan ieria ah di bigis outa aal a di konchridem we ab Panish az ofishal languij, alduo Mexiko, Kolombia ah Spien ab muo piipl.\n",
    "4\tAajentiina: Abuja a di kyapital fi Naijiiria.\n",
    "5\t1907 Kinston oertkwiek: Abalishanizam wehna muuvment fi \"h\" en di slieb chried ahn \"h\" imansipiet di sliebdem ina westan Yuurop ahn di Amorkadem.\n",
    "6\tNobadi moch no protes di slieb sistim tel di 18t senchri, wen rashanalis tinkadem a di \"h\" Inlaitnment kritisaizi fi vayaliet yuuman rait, ahn Kwieka ahn ada els ivanjelikal rilijos gruup kandemi az an-Kristian.\n",
    "7\tDuo antisliebri sentiment wehn waidpred bai liet 18t senchri, iab likl imidiet ifek pahn di sentadem a sliebri iself — di Wes Indiz, Sout Amorka, ahn di sodorn Yunaitid Stiet.\n",
    "8\tDi \"h\" impuotieshan a \"h\" Afrikan slieb wehn ban ina di British kalanidem ina 1807, ahn ina di Yunaitid Stiet ina 1808.\n",
    "9\tIna di British Wes Indiz, sliebri abalish ina 1827 ahn ina di French pozeshandem 15 ier lieta.\n",
    "10\tIna fizix, aabit a di gravitieshanal koerv paat a wah abjek rong wah paint ina spies, fi egzampl di aabit a planit rong wah staar, ar nachral satilait rong wah planit.\n",
    "11\tAabit a planit tipikali iliptikal, ah di senchral mas we aabit de a di fuokal paint a di ilips.\n",
    "12\tKorant andastandin a di mikianix a aabital muoshan bies pah Alboert Ainstain jinaral tiiri a relitiviti, we akount fi graviti az juu tu koervacha a spies-taim, wid aabit we fala jiodiisix.\n",
    "13\tFi iiz a kialkiulieshan, relitiviti kamanli apraximiet bai di fuos-bies tiiri a yunivoersal gravitieshan bies pah Kepla laa a planiteri muoshan.\n",
    "14\t\n",
    "\n",
    "Adolt: Itla wena dekariet vechran a Wol Waar II, ah ih jain di Naatsi Paati ina 1920 ah bikomz di liida ina 1921.\n",
    "15\tAfta ih get lakop fi a fiel kuu ina 1923, ih gien supuot bai promuot Joerman nashinalizim, anti-semitizim, ah anti-kamiunizim wid kiarizmatik arachri ah prapagianda.\n",
    "16\tIh get apaint chansla ina 1933, ah kwik-taim extablish ah mek rialiti ih vijan a tuotalitierianizim, aatokratik, singgl paati, nashinal suoshalis diktietaship.\n",
    "17\tItla poersyuu farin palisi wid di diklier guol fi siiz \"Lebensraum\" ( \"\" libn spies \"\") fi Joermani, ah dairek di rizuos a di stiet tuwaad dis guol.\n",
    "18\tIh riibil di Wehrmacht (defens fuos) ah invied Puolan ina 1939, we liid tu di outbriek a Wol Waar II ina Yuurop.\n",
    "19\tAatifishal intelijens: Di Aatik a wahn riijan we de roun di Naat Puol a di Ort, opozit di Antaatik riijan roun di Sout Puol.\n",
    "20\tDi aatik inkluud di Aatik Uoshan, an som paat a Kyanada, Griinlan (we Denmaak uon), Rosha, di Yunaitid Stiet (Alaska), Aislan, Naawie, Swiidn, ahn Finlan.\n",
    "21\tAamiinia: Abaashan a di henin a prignansi bai rimuuv a fiitos ar embrio bifuo ikiah sovaiv outsaida di yuutaros.\n",
    "22\tAbaashan we okor spantienosli nuo az miskiarij.\n",
    "23\tAbaashan kiah kaaz fi poerpos ah den ikaal injuus abaashan, ar les friikuentli, \"injuus miskiarij\".\n",
    "24\tDi wod \"abaashan\" noftaim yuuz fi miin onggl injuus abaashan.\n",
    "25\tSimila prosiija afta di fiitos kuda eh potenshal sovaiv outsaida di wuum nuo az \"liet toerminieshan a prignansi\".\n",
    "26\tAbejar, Soria, Spien: Di huolis faam a haat we dakiument a vijual aat, we ingkluud krieshan a himij ar abjik ina fiil we hingkluud pientin, skolpcha, printmekin, fotografi ah adaels vijual miidia.\n",
    "27\tAachitecha muotaim ingkluud az wan a di vijual aat; ousomeba, laka dekorietiv aat, ar advataizin, ihinvalv di krieshan a habjik we praktikal kansidarieshan a yuus isenshal — ina wie we no yuujal ina pientin, fi egzampl.\n",
    "28\tMyuuzik, tieta, flim, daans, ah hadaels pofaamin aat, azwel lichicha ah hadaels miidia laka intaraktiv miidia, deh ingkluud ina braada difinishan a haat ar di haats.\n",
    "29\tOptel di 17t senchri, haat kuda eh-refa tu heni skil ar maastari ah neh difranshiet frah kraaf ar sayans.\n",
    "30\tIna madan yuusij afta di 17t senchri, we hestetik kansidarieshan paramount, fain aat get separiet out ah distingguish frah skil we akuaya jinarali, laka dekorietiv ar aplai haat.\n",
    "31\tAabit: Pan di neda an, di egzak aada a di kemikal iven tdem we liid tu di fos nyuukliik asid stil a wahn mischri.\n",
    "32\tNof difrent aipatisis bout orli laif mek op aredi; di muos kaman wan dem a di aiyan-solfa worl tiyori (metabolizm widout jinetiks) ahn di RNA worl aipatisis (RNA laif faam) Ina Britn, Wiliam Wilbafuos (William Wilberforce) wehn tek aan di kaaz a abalishan ina 1787 afta di faamieshan a di Komiti fi di Abalishan a di Slieb Chried, ush ihn liid ina Paalimenchri kiampien fi abalish di slieb chried ina di British Empaya wid di Slieb Chried Ak 1807.\n",
    "33\tIhn alzwel kiampien fi di abalishan a sliebri ina di British Empaya, ahn ihn lib fi siit ina di Sliebri Abalishan Ak 1833.\n",
    "34\tDi \"h\" Ax a di Apasl adawaiz kaal \"h\" Ax ah wahn a di buk dem a di Baibl ahn ah di falarop to.\n",
    "35\tAakeschra: Di 2011 Jumiekan jinaral ilekshan eh-huol pah 29 Disemba 2011 ina Jumieka.\n",
    "36\tDi ilekshan eh-kantes mienli bitwiin di nieshan tuu mieja palitikal paati, di gobanin Jumieka Lieba Paati (JLP), liid bai Anju Uolnis, ah di apazishan Piipl Nashinal Paati (PNP) liid bai Puosha Simsn-Mila.\n",
    "37\tDi rizolt ena lanslaid vikchri fi di PNP we win 42 a di 63 siit, a tuu-tod majariti.\n",
    "38\tAakeschra a laaj inschrumental ohsambl yuuz ina klasikal myuuzik we kantien sekshan a chring (vailin, vyuola, chelo ah dobbl bies), braas, udwin, ah pokoshan inschrument.\n",
    "39\tAbuja: Aachitecha (Latn architectura, frah di Griik ἀρχιτέκτων arkhitekton \"aachitek\", frah ἀρχι - \"chiif\" ah τέκτων \"bilda\") a buot di pruoses ah di prodok a planin, dizainin, ah kanschrokin bildin ah ada fizikal chokcha.\n",
    "40\tIna di nachral saiyans dem, abaiyojenisis, ar di arijin a laif, a di stodi a ou laif pan di ort kuda eva divelop outa non-livin mata.\n",
    "41\tAno di siem ting az evaluushan, faa dat a di stodi a ou difrent gruup a livin tingz chienj uova taim.\n",
    "42\tAmiino asid, binuon az di \"bildin blak fi laif\", okor ina niecha, chuu kemikal riakshan we no rilietid to laif.\n",
    "43\tIna evri livin ting, amiino asid aaganaiz ina pruotiin; di kanschrokshan a dem ya pruotiin kom bout chuu di akshan a nyuukliik asid.\n",
    "44\tDat go fi miin se di kwestyan bout ou laif pan di ort kom bout afi du wid ou di fos nyuukliik asid kom bout.\n",
    "45\tIebriam: Di Adisi (Griik: \"Ὀδύσσεια\" Odýsseia, pronongx [o.dýs.sej.ja] ina Klasikal Atik) a wan a tuu mieja ienshent Griik epik puoym achribiut tu Uoma.\n",
    "46\tDi Adisi a paatli siikuel tu di Iliad, di eda wok we askraib tu Uoma.\n",
    "47\tDi puoym fondamental tu di madoern Westan kianan, an a di sekan uolis extant wok a Westan lichicha, di Iliad a di uolis wan.\n",
    "48\tSkala biliiv se iweh kompuoz nier di \"h\" en a di 8t senchri BCE, somwe ina Ayuonia, di Griik kuoastal riijan a Anatuolia.\n",
    "49\tAbalishanizam: Adalf Itla, nuo az Adolf Hitler (Joerman pronongxieshan: ˈhɪtlɐ, 20 Iepril 1889 – 30 Iepril 1945), wena Aschrian-baan Joerman palitishan ah di liida a di Nashinal Suoshalis Joerman Woka Paati (Joerman: Nationalsozialistische Deutsche Arbeiterpartei, abriviet NSDAP), papiula nuo az di Naatsi Paati.\n",
    "50\tIh wena di ruula fi Joermani frah 1933 tu 1945, saab az chansla frah 1933 tu 1945 ah az ed a stiet (Führer und Reichskanzler) frah 1934 tu 1945.\n",
    "51\tAafwe Chrii, Sint Anju, Jumieka: 2011 Jumiekan jinaral ilekshan: Aat: Di niecha a haat, ah rilietid kansep laka krietiviti ah intopritieshan, expluor ina branch a filasafi nuo az estetix.\n",
    "52\tAat a wah difrah-difrah rienj a yuuman aktiviti fi kriet vijual, aaditeri ar pofaamans aatifak – aatwok, we hexpress di aata himajinietiv ar teknikal skil, inten fi bi aprishiet fi deh byuuti ar imuoshanal powa.\n",
    "53\tIna deh muos jinaral faam dem aktiviti ya hingkluud di prodokshan a wok a haat, di kritisizim a haat, di todi a di ischri a haat, ah di hestetik diseminieshan a haat.\n",
    "54\tIebriam de ina di Buk a Jenisis an a di fos piechriaak a di Izrelait, di Ishmelait, di Midianait ah di Idomait piipldem.\n",
    "55\tIh rigyaad az di piechriaak a Juu, Kristian ah Muzlim piipl ah di smadi uu ep difain monotiyizim.\n",
    "56\tIebriam wena di tent jinarieshan frah Nuowa ah di 20t frah Adam.\n",
    "57\tIh faada wena Tera, an ih bredadem wena Niegor ah Haran.\n",
    "58\tAskaadn tu Jenisis, Gad sen Iebriam fran ih yaad ina Ur Kasdim ah Haran tu Kienan, di lan we Yaawe pramis tu ih disendantdem.\n",
    "59\tDeso, Abraham enta ina wan kovnant: ina exchienj fi rekanaiz Yaawe az Gad, im uda get bles wid nof pitni ah di lan uda bilangx tu dem.\n",
    "60\tJuudizim, Kristianiti, ah Izlam muotaim refa tu az di Iebriamik rilijandem, kaa Iebriam plie mieja ruol ina aal a dem uoli buk.\n",
    "61\tAbaashan: Saiyantis don figa out som tingz bout di arijin a laif, bot som ada wan a stil di sobjek a korent risaach.\n",
    "62\tDi fos livin ting dem pan di ort a wehn prabli singgl sel pruokariyuot.\n",
    "63\tDi oules fasl maikruob-laik objek dem diet bak tu 3.5 Ga (bilian ier uol), jos a fyuu onjrid milian ier yongga dan di ort.\n",
    "64\tBai 2.4 Ga, di riesho a stiebl aisotup fi kaaban, aiyan, ahn solfa shuo di akshan a livin tingz pahn inaagyanik minaral ahn sediment ahn di molekyula baiyomaaka dem indikiet fuotosintesis, we shuo se laif pahn ort wehn kaman bai da taim ya.\n",
    "65\tDi 2010 Kinston anres, dob luokali az di Tivoli Ingkoerjan, wena aam kanflik bitwiin di Showa Pasi jrog kyaatel ah Jumieka milichri ah poliis fuos ina Kinston, di kiapital a Jumieka.\n",
    "66\tDi kanflik eh-bigin pah di 23 Mie 2010 az sikioriti fuos taat fi saach fi mieja jrog laad Kristifa \"Dudus\" Kuok, afta di Yunaitid Stiet rikues ih exchradishan, ah di liida a di kriminal giang we atak sebral poliis stieshan.\n",
    "67\tDi voilens, we muosli tek plies uoba 24 – 25 Mie, kil akliis 73 sivilian ah wuun akliis 35 muo.\n",
    "68\tFuo suoja / poliis get kil tu ah muo dah 500 ares eh-mek, az Jumiekan poliis ah suoja fait gonman ina di Tivoli Gyaadn dischrik a Kinston.\n",
    "69\tAdisi: Aafwe Chrii a di kiapital fi Sint Anju Parish.\n",
    "70\tAatifishal intelijens (AI) a di intelijens egzibit bai mashiin ar saafwier.\n",
    "71\tA di niem azwel fi di akademik fiil a stodi we stodi ou fi kriet kompyuuta ah kompyuuta saafwier we kiepebl a intelijent biyevia.\n",
    "72\tMieja AI risaaacha ah texbuk difain dis fiil az \"di stodi ah dizain a intelijent iejent\", we intelijent iejent a sistim we kiah rejista di invairament ifain iself ina ah tek akshan we maximaiz di chaans a sokses.\n",
    "73\tJan Makaati (John McCarthy), uu kain di toerm ina 1955, difaini az \"di sayans ah injinierin fi mek intelijent mashiin\".\n",
    "74\tAdalf Itla: Abraham Lincoln wehna di sixtiint (16t) president a di Yunaitid Stiets.\n",
    "75\tIm liid di konchri outa di bigis intornal kraisis I eva go chuu, di Amerikan Sivl Waar, we prizaab di yuuniyan an en slievri.\n",
    "76\tBifuo im get ilektid ina 1860 az di fos Ripoblikan president, Lincoln wehna wan laaya, Illinaai stiet lejislieta, wan memba a di Yunaitid Stiet Ous a Reprizentitiv, an wan tuu taim ansoksesful kyandidet tu di U.S. Senit.\n",
    "77\tIm a when wan buol opuonent a di expanshan a slievri ina di Yunaitid Stiets.\n",
    "78\tLincoln win di Ripoblikan paati naminieshan ina 1860 an get ilek az president lieta da siem ier de.\n",
    "79\tIm taim ina afis akyupai muosli wid di siseshanis Kanfedaret stiet dem fram di sivl waar.\n",
    "80\tIm inchraduus meja fi abolish slievri, chuu di Imansipieshan Praklamieshan ina 1863 an di promuoshan a di Tortiint Amenment tu di kanstityuushan.\n",
    "81\tDi siem taim wen di Sivl Waar out fi don, Lincoln bikom di fos Amerikan president fi get asasiniet.\n",
    "82\tAbraham Lincoln kansistenti rangk bai skala az wan a di grietis U.S. Prezident dem.\n",
    "83\tWel-nuoon Abalishanisdem inkluudn buot blak piipl, ahn wait piipl we nehn sopuot sliebri: Aat kiah kiaraktaraiz ina toermz a mimiisis (di riprizentieshan a rialiti), expreshan, komiunikieshan a himuoshan, ar adaels kualiti.\n",
    "84\tJuurin di Ruomantik piiriad, aat eh-komiin laka \"speshal fakolti a di yuuman main fi klasifai wid rilijan ah sayans\".\n",
    "85\tDuo di difinishan a wa ah wa kanstityuut aat dispyuut ah chienj-chienj uoba taim, jinaral diskripshan menshan di aidie a himajinetiv ar teknikal skil we stem frah yuuman iejensi ah krieshan.\n",
    "86\tAamiinia (Aamiinian: \"Հայաստան\", chr.\n",
    "87\t\"Hayastan\", IPA:), ofishali di Ripoblik a Aamiinia (Aamiinian: \"Հայաստանի Հանրապետություն\", chr.\n",
    "88\t\"Hayastani Hanrapetut’yun\"), a wah savrin stiet ina di Sout Kaakasos riijan a Yuurieja.\n",
    "89\tLokiet ina Westan Ieja, ibaada bai Toerki tu di wes, Jaaja tu di naat, di de facto indipendant Nagorno-Karabah Ripoblik ah Azabaijan tu di hiis, ah Iran ah di exkliev a Nakhchivan tu di sout.\n",
    "90\tAatik: Abraham Lincoln: Ax a di Apasl: Abejar a wahn miunisipaliti luokiet ina di pravins a Soria, Kiastiil ahn León, Spien.\n",
    "91\tAskaadn tu di 2007 sensos (INE), di miunisipaliti ab papyulieshan a 405 inabitant.\n",
    "92\t2010 Kinston anres: Aagianik kimischri: Abaiyojenisis: Aachitecha: Di 1907 Kinston oertkwiek we shiekop di kiapital a di ailan a Jumieka wid magnityuud 6.5 pah di muoment magnityuud skiel pah Monde 14 Janiweri, about 3: 30 pm luokal taim (20: 36 UTC), eh-kansida bai nof raita a di taim fi bi wan a di wol dedlies oertkwiek rikaad ina ischri.\n",
    "93\tEbri bildin ina Kinston get damij bai di oertkwiek ah sobsikuent fayadem, we laas fi chrii howa bifuo hefoert eh-mek fi put dem out.\n",
    "94\tIkolminiet ina di det a 800 tu 1,000 piipl, ah lef apraximetli 10,000 uomles ah $ 25,000,000 ina matiirial damij.\n",
    "95\tLikl afta, wah sunaami eh-ripuot pah di naat kuos a Jumieka, wi maximom wiev ait about 2 m (6 – 8 ft)."
   ]
  }
 ],
 "metadata": {
  "kernelspec": {
   "display_name": "Python 3",
   "language": "python",
   "name": "python3"
  },
  "language_info": {
   "codemirror_mode": {
    "name": "ipython",
    "version": 3
   },
   "file_extension": ".py",
   "mimetype": "text/x-python",
   "name": "python",
   "nbconvert_exporter": "python",
   "pygments_lexer": "ipython3",
   "version": "3.6.2"
  }
 },
 "nbformat": 4,
 "nbformat_minor": 2
}
